{
  "nbformat": 4,
  "nbformat_minor": 0,
  "metadata": {
    "colab": {
      "provenance": []
    },
    "kernelspec": {
      "name": "python3",
      "display_name": "Python 3"
    },
    "language_info": {
      "name": "python"
    }
  },
  "cells": [
    {
      "cell_type": "code",
      "execution_count": null,
      "metadata": {
        "id": "E6nmDICCKhnu"
      },
      "outputs": [],
      "source": [
        " dir(str)"
      ]
    },
    {
      "cell_type": "code",
      "source": [
        "class Rasheed:\n",
        "  name = 'coco'\n",
        "  age = 23\n",
        "  your = input('my name is : ')\n",
        "# main code\n",
        "bobb = Rasheed()\n",
        "print(Rasheed.name)\n",
        "print(Rasheed.age)\n",
        "print(Rasheed.your)"
      ],
      "metadata": {
        "colab": {
          "base_uri": "https://localhost:8080/"
        },
        "id": "OuP1YvQwSRDu",
        "outputId": "5814afbc-9e9c-4d29-9140-e40dbc63b65f"
      },
      "execution_count": 5,
      "outputs": [
        {
          "output_type": "stream",
          "name": "stdout",
          "text": [
            "my name is : rasheed\n",
            "coco\n",
            "23\n",
            "rasheed\n"
          ]
        }
      ]
    },
    {
      "cell_type": "code",
      "source": [
        "class Rasheed1:\n",
        "  name = \"Bob\"\n",
        "  def greet(self):\n",
        "    print(f'Hello, my name is {self.name}')\n",
        "# main code\n",
        "bob22 = Rasheed1()\n",
        "bob22.greet()"
      ],
      "metadata": {
        "colab": {
          "base_uri": "https://localhost:8080/"
        },
        "id": "YNVjQpenUYtM",
        "outputId": "01ed4020-24c8-4804-c4fb-b14270670289"
      },
      "execution_count": 11,
      "outputs": [
        {
          "output_type": "stream",
          "name": "stdout",
          "text": [
            "Hello, my name is Bob\n"
          ]
        }
      ]
    },
    {
      "cell_type": "code",
      "source": [
        "class Rasheed22:\n",
        "  def __init__(self, name, age):\n",
        "    self.name = name\n",
        "    self.age = age\n",
        "  def greet(self):\n",
        "    print(f'my name is : {self.name}, my age is : {self.age}')\n",
        "# main code\n",
        "cocoo = Rasheed22('rasheed',23)\n",
        "cocoo.greet()\n",
        "\n"
      ],
      "metadata": {
        "colab": {
          "base_uri": "https://localhost:8080/"
        },
        "id": "BxoHz903X31_",
        "outputId": "dc588853-488c-4d61-ad3d-14d8a844274b"
      },
      "execution_count": 25,
      "outputs": [
        {
          "output_type": "stream",
          "name": "stdout",
          "text": [
            "my name is : rasheed, my age is : 23\n"
          ]
        }
      ]
    },
    {
      "cell_type": "code",
      "source": [
        "class Person:\n",
        "  def __init__(self, name):\n",
        "    self.name = name\n",
        "  def greett(self):\n",
        "    print(f\"My name is : {self.name}\")\n",
        "class Employee(Person):\n",
        "  def __init__(self, name , age , employee_id):\n",
        "    super().__init__(name,age)\n",
        "    self.employee_id = employee_id\n",
        "  def work(self):\n",
        "    print(f\"My work is : \")\n",
        "# main code\n",
        "work11 = Person('rasheed', 23 ,\"2123123123132\")\n",
        "print(work11)\n"
      ],
      "metadata": {
        "id": "FjvjPOhUYPNR"
      },
      "execution_count": null,
      "outputs": []
    }
  ]
}